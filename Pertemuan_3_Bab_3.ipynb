{
  "cells": [
    {
      "cell_type": "markdown",
      "source": [
        "#### Nama =Yulia Dwi Ferdiani\n",
        "#### NIM  =200601110105\n",
        "#### Prak. Pemograman Komputer - F"
      ],
      "metadata": {
        "id": "2bDw-mORTGsH"
      }
    },
    {
      "cell_type": "markdown",
      "metadata": {
        "id": "gYa1Zhuy5dQG"
      },
      "source": [
        "# **Tipe Koleksi**\n",
        "## 3.1 Tipe List\n",
        "List merupakan objek yang bersifat mutable atau nilainya dapat diubah. Kita dapat menambah, mengubah, maupun menghapus elemen-elemen yang terdapat di dalam list. Objek list dibuat menggunakan tanda [ ]. Setiap objek atau elemen yang terdapat di dalam list harus dibatasi menggunakan tanda koma, tapi tidak harus sejenis. Artinya, bisa saja list berisi beberapa objek yang berasal dari tipe berlainan, misalnya str, int, dan sebagainya."
      ]
    },
    {
      "cell_type": "markdown",
      "metadata": {
        "id": "QKY6ub4_KjX3"
      },
      "source": [
        "***Algorithm 3.1***"
      ]
    },
    {
      "cell_type": "code",
      "execution_count": null,
      "metadata": {
        "colab": {
          "base_uri": "https://localhost:8080/"
        },
        "id": "A8ftslpirTfa",
        "outputId": "d532315a-ccf6-4d4e-bf8c-070cbe13fac4"
      },
      "outputs": [
        {
          "data": {
            "text/plain": [
              "[10, 8, 12, 6, 15]"
            ]
          },
          "execution_count": 56,
          "metadata": {},
          "output_type": "execute_result"
        }
      ],
      "source": [
        "list1 = [100, 200, 300, 400]\n",
        "list2 = [1, 'Pemrograman Komputer', 12000.00]\n",
        "list =  [10, 8, 12, 6, 15]\n",
        "list"
      ]
    },
    {
      "cell_type": "code",
      "execution_count": null,
      "metadata": {
        "colab": {
          "background_save": true,
          "base_uri": "https://localhost:8080/"
        },
        "id": "JbTO-0LG9b4u",
        "outputId": "42a0b727-f0d7-485f-8c6f-2c6738de2ab0"
      },
      "outputs": [
        {
          "data": {
            "text/plain": [
              "5"
            ]
          },
          "execution_count": null,
          "metadata": {},
          "output_type": "execute_result"
        }
      ],
      "source": [
        "len(list)  #Menghitung banyaknya elemen di dalam list"
      ]
    },
    {
      "cell_type": "code",
      "execution_count": null,
      "metadata": {
        "colab": {
          "base_uri": "https://localhost:8080/"
        },
        "id": "sL6gKj4trT3P",
        "outputId": "c1d792e8-cda8-40c3-f0bf-f52438f80880"
      },
      "outputs": [
        {
          "data": {
            "text/plain": [
              "[10, 8, 12, 6, 15]"
            ]
          },
          "execution_count": 58,
          "metadata": {},
          "output_type": "execute_result"
        }
      ],
      "source": [
        " li = [10, 8, 12, 6, 15]\n",
        " li"
      ]
    },
    {
      "cell_type": "code",
      "execution_count": null,
      "metadata": {
        "colab": {
          "base_uri": "https://localhost:8080/"
        },
        "id": "bBnOOcnKrUTZ",
        "outputId": "6cb787de-0214-4e37-c029-72db0ef4b5ef"
      },
      "outputs": [
        {
          "data": {
            "text/plain": [
              "(10, 8, 12, 6, 15)"
            ]
          },
          "execution_count": 62,
          "metadata": {},
          "output_type": "execute_result"
        }
      ],
      "source": [
        "li[0], li[1], li[2], li[3], li[4]"
      ]
    },
    {
      "cell_type": "code",
      "execution_count": null,
      "metadata": {
        "colab": {
          "base_uri": "https://localhost:8080/"
        },
        "id": "Voxm32aBrUp8",
        "outputId": "a21202e6-b268-40ae-a0f0-54c25f306098"
      },
      "outputs": [
        {
          "data": {
            "text/plain": [
              "(10, 8, 12, 6, 15)"
            ]
          },
          "execution_count": 66,
          "metadata": {},
          "output_type": "execute_result"
        }
      ],
      "source": [
        "li[-5], li[-4], li[-3] , li[-2], li[-1]"
      ]
    },
    {
      "cell_type": "code",
      "execution_count": null,
      "metadata": {
        "colab": {
          "base_uri": "https://localhost:8080/"
        },
        "id": "PFbRAEDDrU_Z",
        "outputId": "da2f78c8-8f0b-4006-fe3a-0e1f0de3eb19"
      },
      "outputs": [
        {
          "data": {
            "text/plain": [
              "[10, 8, 12, 6, 15, 20, 25]"
            ]
          },
          "execution_count": 67,
          "metadata": {},
          "output_type": "execute_result"
        }
      ],
      "source": [
        "li.append(20) #Menambahkan elemen dalam list\n",
        "li.append(25)\n",
        "li"
      ]
    },
    {
      "cell_type": "code",
      "execution_count": null,
      "metadata": {
        "colab": {
          "base_uri": "https://localhost:8080/"
        },
        "id": "xBJSdAKTrVLW",
        "outputId": "eb50aadc-128e-4385-f97f-2c3136174028"
      },
      "outputs": [
        {
          "data": {
            "text/plain": [
              "[10, 8, 12, 6, 15, 20, 25, 100, 200, 300, 100, 200, 300]"
            ]
          },
          "execution_count": 69,
          "metadata": {},
          "output_type": "execute_result"
        }
      ],
      "source": [
        "li.extend( [100 ,200 ,300]) #Menambahkan list dalam sebuah list\n",
        "li"
      ]
    },
    {
      "cell_type": "code",
      "execution_count": null,
      "metadata": {
        "colab": {
          "base_uri": "https://localhost:8080/"
        },
        "id": "E-L7KEzorVab",
        "outputId": "900a65a7-320f-452e-efd0-8cdaebb66418"
      },
      "outputs": [
        {
          "data": {
            "text/plain": [
              "[99, 77, 12, 6, 15, 20, 25, 100, 200, 300, 100, 200, 300]"
            ]
          },
          "execution_count": 70,
          "metadata": {},
          "output_type": "execute_result"
        }
      ],
      "source": [
        "li[0]=99\n",
        "li[1]=77\n",
        "li"
      ]
    },
    {
      "cell_type": "code",
      "execution_count": null,
      "metadata": {
        "colab": {
          "base_uri": "https://localhost:8080/"
        },
        "id": "OVipgGTEM_Tr",
        "outputId": "8935bdb0-b73e-4779-f94c-cd62f9a057eb"
      },
      "outputs": [
        {
          "data": {
            "text/plain": [
              "[77, 12, 6, 20, 25, 100, 200, 100, 200, 300]"
            ]
          },
          "execution_count": 71,
          "metadata": {},
          "output_type": "execute_result"
        }
      ],
      "source": [
        "li.remove(99) #Menghapus elemen di dalam list\n",
        "li.remove(300)\n",
        "li.remove(15)\n",
        "li"
      ]
    },
    {
      "cell_type": "code",
      "execution_count": null,
      "metadata": {
        "colab": {
          "base_uri": "https://localhost:8080/"
        },
        "id": "RSvYJrkmM_kG",
        "outputId": "a72b5ecf-474d-4904-ff28-9cf26b15bd6a"
      },
      "outputs": [
        {
          "data": {
            "text/plain": [
              "[]"
            ]
          },
          "execution_count": 72,
          "metadata": {},
          "output_type": "execute_result"
        }
      ],
      "source": [
        "li.clear()  #Menghapus semua elemen di dalam list\n",
        "li"
      ]
    },
    {
      "cell_type": "markdown",
      "metadata": {
        "id": "29vrm9N9NwZX"
      },
      "source": [
        "## 3.2 Tipe Dictionary\n",
        "Dictionary (kamus) atau sering juga disebut tipe mapping merupakan objek yang berisi daftar pasangan kunci dan nilai (key-value pair). Pada struktur data list, elemen-elemen diindeks berdasarkan bilangan positif maupun negatif tergantung dari arah mana elemen-elemen tersebut akan iakses. Pada struktur dat dictionary, elemen-elemen akan diindeks ber\u0002dasarkan kuncinya. Objek yang dijadikan sebagai kunci dapat berasal dari tipe apa saja, tapi pada umumnya berupa string, atau paling tidak berupa bilangan. Berbeda dengan list, dictionary dibuat menggunakan { }. Setiap pasangan kunci dan nilai harus dipisahkan menggunakan tanda (:)."
      ]
    },
    {
      "cell_type": "markdown",
      "metadata": {
        "id": "xV_S5w_cOKSI"
      },
      "source": [
        "***Algorithm 3.2***"
      ]
    },
    {
      "cell_type": "code",
      "execution_count": null,
      "metadata": {
        "colab": {
          "base_uri": "https://localhost:8080/"
        },
        "id": "q47FeVoGM_vT",
        "outputId": "4d13e1ed-63b8-4959-d9ea-0df5124153d5"
      },
      "outputs": [
        {
          "data": {
            "text/plain": [
              "{'A': 4, 'B': 3, 'C': 2, 'D': 1, 'E': 0}"
            ]
          },
          "execution_count": 73,
          "metadata": {},
          "output_type": "execute_result"
        }
      ],
      "source": [
        "na={'A':4, 'B':3, 'C':2, 'D':1, 'E':0}\n",
        "na"
      ]
    },
    {
      "cell_type": "code",
      "execution_count": null,
      "metadata": {
        "colab": {
          "base_uri": "https://localhost:8080/"
        },
        "id": "iswaCB4JM_62",
        "outputId": "4b3a245e-ba6d-41b3-9efd-8e37c5aa9089"
      },
      "outputs": [
        {
          "data": {
            "text/plain": [
              "dict_keys(['A', 'B', 'C', 'D', 'E'])"
            ]
          },
          "execution_count": 74,
          "metadata": {},
          "output_type": "execute_result"
        }
      ],
      "source": [
        "na.keys()  #Menampilkan Kata Kunci(key) dalam Dictionary"
      ]
    },
    {
      "cell_type": "code",
      "execution_count": null,
      "metadata": {
        "colab": {
          "base_uri": "https://localhost:8080/"
        },
        "id": "zgvrWdvqNALE",
        "outputId": "38d78698-8b5b-4e15-860c-8473531300cd"
      },
      "outputs": [
        {
          "data": {
            "text/plain": [
              "dict_values([4, 3, 2, 1, 0])"
            ]
          },
          "execution_count": 75,
          "metadata": {},
          "output_type": "execute_result"
        }
      ],
      "source": [
        "na.values() #Menampilkan Kata Value dalam Dictionary"
      ]
    },
    {
      "cell_type": "code",
      "execution_count": null,
      "metadata": {
        "colab": {
          "base_uri": "https://localhost:8080/"
        },
        "id": "PxbC2yosPHJY",
        "outputId": "570a4ca2-ddff-4e00-ff25-88078f20f160"
      },
      "outputs": [
        {
          "data": {
            "text/plain": [
              "4"
            ]
          },
          "execution_count": 76,
          "metadata": {},
          "output_type": "execute_result"
        }
      ],
      "source": [
        "na['A']"
      ]
    },
    {
      "cell_type": "code",
      "execution_count": null,
      "metadata": {
        "colab": {
          "base_uri": "https://localhost:8080/"
        },
        "id": "x7e4LVUzPKV7",
        "outputId": "a0a030d4-fc9e-49ec-a8bb-38831b4886d1"
      },
      "outputs": [
        {
          "data": {
            "text/plain": [
              "3"
            ]
          },
          "execution_count": 77,
          "metadata": {},
          "output_type": "execute_result"
        }
      ],
      "source": [
        "na['B']"
      ]
    },
    {
      "cell_type": "code",
      "execution_count": null,
      "metadata": {
        "colab": {
          "base_uri": "https://localhost:8080/"
        },
        "id": "h4iBZ2YNPKgV",
        "outputId": "89439c01-adc0-4248-80cb-9b8a80dda5e8"
      },
      "outputs": [
        {
          "data": {
            "text/plain": [
              "2"
            ]
          },
          "execution_count": 78,
          "metadata": {},
          "output_type": "execute_result"
        }
      ],
      "source": [
        "na['C']"
      ]
    },
    {
      "cell_type": "markdown",
      "source": [
        "========================================================="
      ],
      "metadata": {
        "id": "GUbRxVJsJG0R"
      }
    },
    {
      "cell_type": "code",
      "execution_count": null,
      "metadata": {
        "colab": {
          "base_uri": "https://localhost:8080/",
          "height": 35
        },
        "id": "U_ziy2jaPTPN",
        "outputId": "65b113f7-1fb4-4047-c975-3510700450d0"
      },
      "outputs": [
        {
          "data": {
            "application/vnd.google.colaboratory.intrinsic+json": {
              "type": "string"
            },
            "text/plain": [
              "'kucing'"
            ]
          },
          "execution_count": 79,
          "metadata": {},
          "output_type": "execute_result"
        }
      ],
      "source": [
        "kamus={'mouse':'tikus', 'cat':'kucing'}\n",
        "kamus['cat']"
      ]
    },
    {
      "cell_type": "code",
      "execution_count": null,
      "metadata": {
        "colab": {
          "base_uri": "https://localhost:8080/"
        },
        "id": "xPL0FemePhkc",
        "outputId": "31104d9d-cbd7-414f-90d2-50931ee46f98"
      },
      "outputs": [
        {
          "data": {
            "text/plain": [
              "dict_keys(['mouse', 'cat'])"
            ]
          },
          "execution_count": 80,
          "metadata": {},
          "output_type": "execute_result"
        }
      ],
      "source": [
        "kamus.keys()"
      ]
    },
    {
      "cell_type": "code",
      "execution_count": null,
      "metadata": {
        "colab": {
          "base_uri": "https://localhost:8080/"
        },
        "id": "OZmRABfdPoM4",
        "outputId": "c95d329e-768d-41aa-d640-269d2a769df6"
      },
      "outputs": [
        {
          "data": {
            "text/plain": [
              "dict_values(['tikus', 'kucing'])"
            ]
          },
          "execution_count": 81,
          "metadata": {},
          "output_type": "execute_result"
        }
      ],
      "source": [
        "kamus.values()"
      ]
    },
    {
      "cell_type": "markdown",
      "metadata": {
        "id": "7s_bHkjAP0dx"
      },
      "source": [
        "## 3.3 Tipe Tuple\n",
        "Tuple adalah tipe koleksi yang mirip dengan list. Pebedaannya, tuple bersifat immutable atau elemen-elemennya tidak dapat diubah, baik nilainya maupun jumlah elemennya. Ini berarti bahwa kita tidak dapat menambah, mengubah, atau menghapus elemen di dalam tuple. Dengan kata lain, tuple merupakan koleksi yang bersifat konstan. Tuple dibuat meng\u0002gunakan tanda ( )."
      ]
    },
    {
      "cell_type": "markdown",
      "source": [
        "***Algorithm 3.3***"
      ],
      "metadata": {
        "id": "IlWlpkrUIQfv"
      }
    },
    {
      "cell_type": "code",
      "execution_count": null,
      "metadata": {
        "colab": {
          "base_uri": "https://localhost:8080/"
        },
        "id": "3m08EAKdQJZJ",
        "outputId": "479d7fc5-a4ec-4548-8b4c-cc318938314f"
      },
      "outputs": [
        {
          "data": {
            "text/plain": [
              "10"
            ]
          },
          "execution_count": 82,
          "metadata": {},
          "output_type": "execute_result"
        }
      ],
      "source": [
        "t=(10,20,30)\n",
        "t[0]"
      ]
    },
    {
      "cell_type": "code",
      "execution_count": null,
      "metadata": {
        "colab": {
          "base_uri": "https://localhost:8080/"
        },
        "id": "wkSEUwgjQJtN",
        "outputId": "bb942275-a9bd-4123-804e-ff456a9ae9a3"
      },
      "outputs": [
        {
          "data": {
            "text/plain": [
              "20"
            ]
          },
          "execution_count": 83,
          "metadata": {},
          "output_type": "execute_result"
        }
      ],
      "source": [
        "t[1]"
      ]
    },
    {
      "cell_type": "code",
      "execution_count": null,
      "metadata": {
        "colab": {
          "base_uri": "https://localhost:8080/"
        },
        "id": "gh7wa8hgQKnU",
        "outputId": "9c15f22a-3c4b-4532-d576-ff18bed23651"
      },
      "outputs": [
        {
          "data": {
            "text/plain": [
              "30"
            ]
          },
          "execution_count": 84,
          "metadata": {},
          "output_type": "execute_result"
        }
      ],
      "source": [
        "t[2]"
      ]
    },
    {
      "cell_type": "code",
      "execution_count": null,
      "metadata": {
        "colab": {
          "base_uri": "https://localhost:8080/"
        },
        "id": "pcfexc88QK0E",
        "outputId": "1a5aa107-2fe7-4198-901b-980a77ab0317"
      },
      "outputs": [
        {
          "data": {
            "text/plain": [
              "(10, 20, 30)"
            ]
          },
          "execution_count": 85,
          "metadata": {},
          "output_type": "execute_result"
        }
      ],
      "source": [
        "t[-3],t[-2],t[-1]"
      ]
    },
    {
      "cell_type": "code",
      "execution_count": null,
      "metadata": {
        "colab": {
          "base_uri": "https://localhost:8080/"
        },
        "id": "P0tKgVarQLHY",
        "outputId": "cd7a7042-8841-4b9c-f1b7-4fb67cbfcb0a"
      },
      "outputs": [
        {
          "data": {
            "text/plain": [
              "3"
            ]
          },
          "execution_count": 86,
          "metadata": {},
          "output_type": "execute_result"
        }
      ],
      "source": [
        "len(t)  #Menghitung banyaknya elemen didalam Tuple"
      ]
    },
    {
      "cell_type": "markdown",
      "metadata": {
        "id": "QAMU_WzAQqXD"
      },
      "source": [
        "## 3.4 Tipe Set\n",
        "set (himpunan) adalah tipe koleksi yang setiap elemennya bersifat unik.\n",
        "Dengan demikian, di dalam set tidak akan pernah ada duplikasi nilai elemen. Jika pada saat pembuatan set terdapat beberapa elemen yang nilainya sama, maka elemen-elemen tersebut hanya akan diambil satu, sisanya secara otomatis akan dibuang. Set dibuat menggunakan fungsi set( ) dengan parameter bisa berupa list, dictionary, tuple, maupun string.\n"
      ]
    },
    {
      "cell_type": "markdown",
      "metadata": {
        "id": "CzCHc6c9Q4ID"
      },
      "source": [
        "***Algorithm 3.4***"
      ]
    },
    {
      "cell_type": "code",
      "execution_count": null,
      "metadata": {
        "colab": {
          "base_uri": "https://localhost:8080/"
        },
        "id": "3_YggFQWQ04v",
        "outputId": "53b6dfa2-fe9c-4635-dafe-537b8a9bd2aa"
      },
      "outputs": [
        {
          "data": {
            "text/plain": [
              "{10, 20, 30}"
            ]
          },
          "execution_count": 87,
          "metadata": {},
          "output_type": "execute_result"
        }
      ],
      "source": [
        "s=set([10,10,20,30,30,30])\n",
        "s"
      ]
    },
    {
      "cell_type": "code",
      "execution_count": null,
      "metadata": {
        "colab": {
          "base_uri": "https://localhost:8080/"
        },
        "id": "U-S5qYSbREGe",
        "outputId": "6176542b-9846-4637-fb7e-5438d6e883d5"
      },
      "outputs": [
        {
          "data": {
            "text/plain": [
              "3"
            ]
          },
          "execution_count": 88,
          "metadata": {},
          "output_type": "execute_result"
        }
      ],
      "source": [
        "len(s)"
      ]
    },
    {
      "cell_type": "code",
      "execution_count": null,
      "metadata": {
        "colab": {
          "base_uri": "https://localhost:8080/"
        },
        "id": "HjAfyso-RIDl",
        "outputId": "736c5c12-759f-4128-b1a6-08055dd6cb0d"
      },
      "outputs": [
        {
          "data": {
            "text/plain": [
              "{10, 20, 30, 60}"
            ]
          },
          "execution_count": 89,
          "metadata": {},
          "output_type": "execute_result"
        }
      ],
      "source": [
        "s.add(60) #Menambah anggota himpunan(set)\n",
        "s"
      ]
    },
    {
      "cell_type": "code",
      "execution_count": null,
      "metadata": {
        "colab": {
          "base_uri": "https://localhost:8080/"
        },
        "id": "SXVeq4wcRHHq",
        "outputId": "8506a3fc-c2b7-48a2-e04c-c6491460932e"
      },
      "outputs": [
        {
          "data": {
            "text/plain": [
              "4"
            ]
          },
          "execution_count": 90,
          "metadata": {},
          "output_type": "execute_result"
        }
      ],
      "source": [
        "len(s)"
      ]
    },
    {
      "cell_type": "markdown",
      "source": [
        "=================== ***END*** ==================="
      ],
      "metadata": {
        "id": "JldgHdW0SpFq"
      }
    }
  ],
  "metadata": {
    "colab": {
      "name": "Pertemuan 3 Bab 3.ipynb",
      "provenance": []
    },
    "kernelspec": {
      "display_name": "Python 3",
      "name": "python3"
    },
    "language_info": {
      "name": "python"
    }
  },
  "nbformat": 4,
  "nbformat_minor": 0
}